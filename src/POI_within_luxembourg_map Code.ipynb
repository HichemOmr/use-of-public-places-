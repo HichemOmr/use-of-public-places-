{
 "cells": [
  {
   "cell_type": "code",
   "execution_count": null,
   "id": "8ec0f113",
   "metadata": {},
   "outputs": [],
   "source": [
    "import pandas as pd\n",
    "import geopandas as gpd\n",
    "from shapely.geometry import Point, Polygon\n",
    "import folium"
   ]
  },
  {
   "cell_type": "code",
   "execution_count": null,
   "id": "5845435f",
   "metadata": {},
   "outputs": [],
   "source": [
    "# Load Luxembourg border coordinates\n",
    "lux_border_coords = pd.read_csv('lux-border-coords.csv')\n",
    "\n",
    "# Create a polygon from the border coordinates\n",
    "lux_border_polygon = Polygon(zip(lux_border_coords['lon'], lux_border_coords['lat']))"
   ]
  },
  {
   "cell_type": "code",
   "execution_count": null,
   "id": "ccefb847",
   "metadata": {},
   "outputs": [],
   "source": [
    "# Function to check if a point is within the Luxembourg border polygon\n",
    "def is_point_in_luxembourg(lat, lon):\n",
    "    point = Point(lon, lat)\n",
    "    return lux_border_polygon.contains(point)"
   ]
  },
  {
   "cell_type": "code",
   "execution_count": null,
   "id": "924f058e",
   "metadata": {},
   "outputs": [],
   "source": [
    "# Load points to check\n",
    "places_df = pd.read_excel('places.xlsx')\n",
    "\n",
    "# Check each point in the provided dataset to see if it falls within Luxembourg\n",
    "places_df['within_luxembourg'] = places_df.apply(lambda row: is_point_in_luxembourg(row['latitude'], row['longitude']), axis=1)\n",
    "\n",
    "# Filter points that are within Luxembourg\n",
    "points_within_lux = places_df[places_df['within_luxembourg']]"
   ]
  },
  {
   "cell_type": "code",
   "execution_count": null,
   "id": "045a6f65",
   "metadata": {},
   "outputs": [],
   "source": [
    "# Create an HTML map with the border of Luxembourg drawn in blue\n",
    "map_places_with_border = folium.Map(location=[49.8153, 6.1296], zoom_start=10)\n",
    "\n",
    "# Add Luxembourg border polygon to the map\n",
    "folium.Polygon(locations=[(lat, lon) for lat, lon in zip(lux_border_coords['lat'], lux_border_coords['lon'])],\n",
    "               color='blue', weight=2.5, opacity=1).add_to(map_places_with_border)\n",
    "\n",
    "# Add points to the map\n",
    "for idx, row in points_within_lux.iterrows():\n",
    "    folium.CircleMarker(location=(row['latitude'], row['longitude']),\n",
    "                        radius=2,\n",
    "                        color='green',\n",
    "                        fill=True).add_to(map_places_with_border)\n",
    "\n",
    "# Save the revised map to an HTML file\n",
    "map_places_with_border.save('revised_places_within_luxembourg_map.html')"
   ]
  }
 ],
 "metadata": {},
 "nbformat": 4,
 "nbformat_minor": 5
}
