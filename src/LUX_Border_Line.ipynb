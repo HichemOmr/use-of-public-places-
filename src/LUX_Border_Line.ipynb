{
  "nbformat": 4,
  "nbformat_minor": 0,
  "metadata": {
    "colab": {
      "provenance": []
    },
    "kernelspec": {
      "name": "python3",
      "display_name": "Python 3"
    },
    "language_info": {
      "name": "python"
    }
  },
  "cells": [
    {
      "cell_type": "code",
      "source": [
        "################## LUX Border Line #####################\n",
        "\n",
        "import folium\n",
        "import requests\n",
        "import pandas as pd\n",
        "import time\n",
        "from shapely.geometry import Point, Polygon\n",
        "import folium\n",
        "\n",
        "# Create a map centered around Luxembourg\n",
        "lux_map = folium.Map(location=[49.815273, 6.129583], zoom_start=8)\n",
        "\n",
        "# Upload the CSV file\n",
        "from google.colab import files\n",
        "\n",
        "# Load the CSV file into a DataFrame\n",
        "df = pd.read_csv('/content/lux-border-coords.csv')\n",
        "\n",
        "\n",
        "# Extract latitude and longitude from the dataframe\n",
        "border_coords = df[['lat', 'lon']].values.tolist()\n",
        "\n",
        "# Draw the border of Luxembourg\n",
        "folium.PolyLine(border_coords, color='blue', weight=2.5, opacity=1).add_to(lux_map)\n",
        "\n",
        "# Save the map to an HTML file\n",
        "map_path = 'luxembourg_border_map.html'\n",
        "lux_map.save(map_path)\n",
        "\n"
      ],
      "metadata": {
        "id": "6ZoCizV-An0t"
      },
      "execution_count": null,
      "outputs": []
    }
  ]
}